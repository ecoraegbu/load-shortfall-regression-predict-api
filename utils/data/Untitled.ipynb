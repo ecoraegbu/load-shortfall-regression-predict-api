{
 "cells": [
  {
   "cell_type": "code",
   "execution_count": 1,
   "id": "0d0fd739",
   "metadata": {},
   "outputs": [],
   "source": [
    "import pandas as pd\n",
    "import numpy as np"
   ]
  },
  {
   "cell_type": "code",
   "execution_count": 2,
   "id": "9c41caee",
   "metadata": {},
   "outputs": [],
   "source": [
    "df = pd.read_csv('test_clean.csv')"
   ]
  },
  {
   "cell_type": "code",
   "execution_count": 3,
   "id": "9599a1a2",
   "metadata": {},
   "outputs": [
    {
     "data": {
      "text/plain": [
       "[4.6666666667,\n",
       " 8.0,\n",
       " 0.0,\n",
       " 5.3333333333,\n",
       " 89.0,\n",
       " 78.0,\n",
       " 0.0,\n",
       " 3.6666666667,\n",
       " 0.0,\n",
       " 143.3333333333,\n",
       " 4.6666666667,\n",
       " 266.6666666667,\n",
       " 0.0,\n",
       " 0.6666666667,\n",
       " 0.0,\n",
       " 25.0,\n",
       " 0.0,\n",
       " 1020.3333333333,\n",
       " 0.0,\n",
       " 0.0,\n",
       " 0.0,\n",
       " 800.0,\n",
       " 800.3333333333,\n",
       " 1026.6666666667,\n",
       " 800.0,\n",
       " 1013.1483509056492,\n",
       " 282.4833333333,\n",
       " 721.0,\n",
       " 53.6666666667,\n",
       " 1.0,\n",
       " 1.0,\n",
       " 0.0,\n",
       " 3.0]"
      ]
     },
     "execution_count": 3,
     "metadata": {},
     "output_type": "execute_result"
    }
   ],
   "source": [
    "df.iloc[1].to_list()"
   ]
  },
  {
   "cell_type": "code",
   "execution_count": null,
   "id": "e609deae",
   "metadata": {},
   "outputs": [],
   "source": []
  }
 ],
 "metadata": {
  "kernelspec": {
   "display_name": "Python 3 (ipykernel)",
   "language": "python",
   "name": "python3"
  },
  "language_info": {
   "codemirror_mode": {
    "name": "ipython",
    "version": 3
   },
   "file_extension": ".py",
   "mimetype": "text/x-python",
   "name": "python",
   "nbconvert_exporter": "python",
   "pygments_lexer": "ipython3",
   "version": "3.9.7"
  }
 },
 "nbformat": 4,
 "nbformat_minor": 5
}
